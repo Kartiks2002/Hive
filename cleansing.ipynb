{
 "cells": [
  {
   "cell_type": "markdown",
   "id": "2a010d57-0a09-474d-aef6-1d9dbd25c762",
   "metadata": {},
   "source": [
    "# Data Cleaning and State Mapping for Startup Locations\n",
    "\n",
    "This notebook performs data cleaning and processing on a dataset of startups in India, contained in the file `Listofstartups.csv`. The steps involved include:\n",
    "\n",
    "1. **Loading the Data**:\n",
    "   - The data is loaded from a CSV file into a Pandas DataFrame using `pd.read_csv()`.\n",
    "\n",
    "2. **Initial Exploration**:\n",
    "   - `df.describe()` and `df.head()` are used to explore the basic statistics and the first few rows of the dataset to understand its structure.\n",
    "\n",
    "3. **Splitting the `Location of company` Column**:\n",
    "   - The `Location of company` column is split into two new columns: `City` and `State`. This is done using the `str.split()` method, which separates the string based on a comma and assigns the first part to the `City` column and the second part to the `State` column.\n",
    "   \n",
    "4. **Handling Missing Data**:\n",
    "   - The missing values in the `State` and `City` columns are checked using `isna().sum()`. The notebook identifies the rows where `State` is missing.\n",
    "   - Cities with missing state values are processed by looking up the corresponding state from an external JSON file (`indian_states_and_cities.json`), which maps cities to their respective states.\n",
    "\n",
    "5. **Mapping Cities to States**:\n",
    "   - A custom function `map_city_to_state()` is defined to map each city to its respective state using the `city_to_state` dictionary loaded from the JSON file. This function handles missing city-state mappings by returning `None` when no match is found.\n",
    "\n",
    "6. **Filling Missing State Values**:\n",
    "   - For the rows where the `State` is missing, the notebook attempts to find the correct state by using the `map_city_to_state()` function and updates the `State` column with the found value.\n",
    "\n",
    "7. **Final Check**:\n",
    "   - After filling in the missing state values, `df.State.isna().sum()` is called again to verify that the missing values have been handled.\n",
    "\n",
    "8. **Saving the Cleaned Data**:\n",
    "   - Finally, the cleaned DataFrame is saved to a new CSV file, `Cleaned_Listofstartups.csv`, for further use.\n",
    "\n",
    "---\n",
    "\n",
    "### Purpose:\n",
    "This notebook demonstrates basic data cleaning techniques, including handling missing data, text manipulation, and mapping data using external resources (in this case, a JSON file of cities and states). The cleaned dataset can now be used for further analysis or machine learning tasks.\n"
   ]
  },
  {
   "cell_type": "code",
   "execution_count": 33,
   "id": "2b1163a5-f2ad-476b-a06c-b56cab964e35",
   "metadata": {},
   "outputs": [],
   "source": [
    "import numpy as np\n",
    "import pandas as pd"
   ]
  },
  {
   "cell_type": "code",
   "execution_count": 34,
   "id": "dc249e45-5c10-4926-aa03-d45ea1553953",
   "metadata": {},
   "outputs": [],
   "source": [
    "df = pd.read_csv('Listofstartups.csv')"
   ]
  },
  {
   "cell_type": "code",
   "execution_count": 35,
   "id": "2fba7ad4-6b46-4d35-bec6-2fdb69d2626d",
   "metadata": {},
   "outputs": [
    {
     "data": {
      "text/html": [
       "<div>\n",
       "<style scoped>\n",
       "    .dataframe tbody tr th:only-of-type {\n",
       "        vertical-align: middle;\n",
       "    }\n",
       "\n",
       "    .dataframe tbody tr th {\n",
       "        vertical-align: top;\n",
       "    }\n",
       "\n",
       "    .dataframe thead th {\n",
       "        text-align: right;\n",
       "    }\n",
       "</style>\n",
       "<table border=\"1\" class=\"dataframe\">\n",
       "  <thead>\n",
       "    <tr style=\"text-align: right;\">\n",
       "      <th></th>\n",
       "      <th>Incubation_Center</th>\n",
       "      <th>Name_of_startup</th>\n",
       "      <th>Location of company</th>\n",
       "      <th>Sector</th>\n",
       "    </tr>\n",
       "  </thead>\n",
       "  <tbody>\n",
       "    <tr>\n",
       "      <th>count</th>\n",
       "      <td>241</td>\n",
       "      <td>241</td>\n",
       "      <td>239</td>\n",
       "      <td>241</td>\n",
       "    </tr>\n",
       "    <tr>\n",
       "      <th>unique</th>\n",
       "      <td>44</td>\n",
       "      <td>238</td>\n",
       "      <td>66</td>\n",
       "      <td>165</td>\n",
       "    </tr>\n",
       "    <tr>\n",
       "      <th>top</th>\n",
       "      <td>SIIC, IIT Kanpur</td>\n",
       "      <td>MedCuore Medical Solutions Pvt Ltd</td>\n",
       "      <td>Bengaluru, Karnataka</td>\n",
       "      <td>Healthcare</td>\n",
       "    </tr>\n",
       "    <tr>\n",
       "      <th>freq</th>\n",
       "      <td>17</td>\n",
       "      <td>2</td>\n",
       "      <td>31</td>\n",
       "      <td>34</td>\n",
       "    </tr>\n",
       "  </tbody>\n",
       "</table>\n",
       "</div>"
      ],
      "text/plain": [
       "       Incubation_Center                     Name_of_startup  \\\n",
       "count                241                                 241   \n",
       "unique                44                                 238   \n",
       "top     SIIC, IIT Kanpur  MedCuore Medical Solutions Pvt Ltd   \n",
       "freq                  17                                   2   \n",
       "\n",
       "         Location of company      Sector  \n",
       "count                    239         241  \n",
       "unique                    66         165  \n",
       "top     Bengaluru, Karnataka  Healthcare  \n",
       "freq                      31          34  "
      ]
     },
     "execution_count": 35,
     "metadata": {},
     "output_type": "execute_result"
    }
   ],
   "source": [
    "df.describe()"
   ]
  },
  {
   "cell_type": "code",
   "execution_count": 36,
   "id": "9c59ae83-4a9e-4ba2-b9d8-91abd8362c3c",
   "metadata": {},
   "outputs": [
    {
     "data": {
      "text/html": [
       "<div>\n",
       "<style scoped>\n",
       "    .dataframe tbody tr th:only-of-type {\n",
       "        vertical-align: middle;\n",
       "    }\n",
       "\n",
       "    .dataframe tbody tr th {\n",
       "        vertical-align: top;\n",
       "    }\n",
       "\n",
       "    .dataframe thead th {\n",
       "        text-align: right;\n",
       "    }\n",
       "</style>\n",
       "<table border=\"1\" class=\"dataframe\">\n",
       "  <thead>\n",
       "    <tr style=\"text-align: right;\">\n",
       "      <th></th>\n",
       "      <th>Incubation_Center</th>\n",
       "      <th>Name_of_startup</th>\n",
       "      <th>Location of company</th>\n",
       "      <th>Sector</th>\n",
       "    </tr>\n",
       "  </thead>\n",
       "  <tbody>\n",
       "    <tr>\n",
       "      <th>0</th>\n",
       "      <td>ABES Ghaziabad</td>\n",
       "      <td>Suryansh</td>\n",
       "      <td>New Delhi</td>\n",
       "      <td>EdTech</td>\n",
       "    </tr>\n",
       "    <tr>\n",
       "      <th>1</th>\n",
       "      <td>AIC Banasthali Vidyapith Foundation</td>\n",
       "      <td>Thinkpods Education Services Private Limited (...</td>\n",
       "      <td>Satara, Maharashtra</td>\n",
       "      <td>Ed Tech</td>\n",
       "    </tr>\n",
       "    <tr>\n",
       "      <th>2</th>\n",
       "      <td>AIC Banasthali Vidyapith Foundation</td>\n",
       "      <td>Inventiway Solutions Pvt.Ltd.</td>\n",
       "      <td>Mumbai, Maharashtra</td>\n",
       "      <td>HR Tech</td>\n",
       "    </tr>\n",
       "    <tr>\n",
       "      <th>3</th>\n",
       "      <td>AIC Banasthali Vidyapith Foundation</td>\n",
       "      <td>C2M Internet India Pvt. Ltd.</td>\n",
       "      <td>Lucknow, Uttar Pradesh</td>\n",
       "      <td>Retail Tech</td>\n",
       "    </tr>\n",
       "    <tr>\n",
       "      <th>4</th>\n",
       "      <td>AIC Pinnacle Entrepreneurship Forum</td>\n",
       "      <td>Wastinno</td>\n",
       "      <td>Pune, Maharashtra</td>\n",
       "      <td>agriculture</td>\n",
       "    </tr>\n",
       "  </tbody>\n",
       "</table>\n",
       "</div>"
      ],
      "text/plain": [
       "                     Incubation_Center  \\\n",
       "0                       ABES Ghaziabad   \n",
       "1  AIC Banasthali Vidyapith Foundation   \n",
       "2  AIC Banasthali Vidyapith Foundation   \n",
       "3  AIC Banasthali Vidyapith Foundation   \n",
       "4  AIC Pinnacle Entrepreneurship Forum   \n",
       "\n",
       "                                     Name_of_startup     Location of company  \\\n",
       "0                                           Suryansh               New Delhi   \n",
       "1  Thinkpods Education Services Private Limited (...     Satara, Maharashtra   \n",
       "2                      Inventiway Solutions Pvt.Ltd.     Mumbai, Maharashtra   \n",
       "3                       C2M Internet India Pvt. Ltd.  Lucknow, Uttar Pradesh   \n",
       "4                                           Wastinno       Pune, Maharashtra   \n",
       "\n",
       "        Sector  \n",
       "0       EdTech  \n",
       "1      Ed Tech  \n",
       "2      HR Tech  \n",
       "3  Retail Tech  \n",
       "4  agriculture  "
      ]
     },
     "execution_count": 36,
     "metadata": {},
     "output_type": "execute_result"
    }
   ],
   "source": [
    "df.head()"
   ]
  },
  {
   "cell_type": "code",
   "execution_count": 37,
   "id": "8c77c57e-d20e-4f6c-84e9-6d16590ee162",
   "metadata": {},
   "outputs": [],
   "source": [
    "df[['City', 'State']] = df['Location of company'].str.split(',', expand=True, n=1)"
   ]
  },
  {
   "cell_type": "code",
   "execution_count": 38,
   "id": "aa303792-57ff-4a93-ad7e-c0ecc99d1fbf",
   "metadata": {},
   "outputs": [
    {
     "data": {
      "text/html": [
       "<div>\n",
       "<style scoped>\n",
       "    .dataframe tbody tr th:only-of-type {\n",
       "        vertical-align: middle;\n",
       "    }\n",
       "\n",
       "    .dataframe tbody tr th {\n",
       "        vertical-align: top;\n",
       "    }\n",
       "\n",
       "    .dataframe thead th {\n",
       "        text-align: right;\n",
       "    }\n",
       "</style>\n",
       "<table border=\"1\" class=\"dataframe\">\n",
       "  <thead>\n",
       "    <tr style=\"text-align: right;\">\n",
       "      <th></th>\n",
       "      <th>Incubation_Center</th>\n",
       "      <th>Name_of_startup</th>\n",
       "      <th>Location of company</th>\n",
       "      <th>Sector</th>\n",
       "      <th>City</th>\n",
       "      <th>State</th>\n",
       "    </tr>\n",
       "  </thead>\n",
       "  <tbody>\n",
       "    <tr>\n",
       "      <th>0</th>\n",
       "      <td>ABES Ghaziabad</td>\n",
       "      <td>Suryansh</td>\n",
       "      <td>New Delhi</td>\n",
       "      <td>EdTech</td>\n",
       "      <td>New Delhi</td>\n",
       "      <td>None</td>\n",
       "    </tr>\n",
       "    <tr>\n",
       "      <th>1</th>\n",
       "      <td>AIC Banasthali Vidyapith Foundation</td>\n",
       "      <td>Thinkpods Education Services Private Limited (...</td>\n",
       "      <td>Satara, Maharashtra</td>\n",
       "      <td>Ed Tech</td>\n",
       "      <td>Satara</td>\n",
       "      <td>Maharashtra</td>\n",
       "    </tr>\n",
       "    <tr>\n",
       "      <th>2</th>\n",
       "      <td>AIC Banasthali Vidyapith Foundation</td>\n",
       "      <td>Inventiway Solutions Pvt.Ltd.</td>\n",
       "      <td>Mumbai, Maharashtra</td>\n",
       "      <td>HR Tech</td>\n",
       "      <td>Mumbai</td>\n",
       "      <td>Maharashtra</td>\n",
       "    </tr>\n",
       "    <tr>\n",
       "      <th>3</th>\n",
       "      <td>AIC Banasthali Vidyapith Foundation</td>\n",
       "      <td>C2M Internet India Pvt. Ltd.</td>\n",
       "      <td>Lucknow, Uttar Pradesh</td>\n",
       "      <td>Retail Tech</td>\n",
       "      <td>Lucknow</td>\n",
       "      <td>Uttar Pradesh</td>\n",
       "    </tr>\n",
       "    <tr>\n",
       "      <th>4</th>\n",
       "      <td>AIC Pinnacle Entrepreneurship Forum</td>\n",
       "      <td>Wastinno</td>\n",
       "      <td>Pune, Maharashtra</td>\n",
       "      <td>agriculture</td>\n",
       "      <td>Pune</td>\n",
       "      <td>Maharashtra</td>\n",
       "    </tr>\n",
       "  </tbody>\n",
       "</table>\n",
       "</div>"
      ],
      "text/plain": [
       "                     Incubation_Center  \\\n",
       "0                       ABES Ghaziabad   \n",
       "1  AIC Banasthali Vidyapith Foundation   \n",
       "2  AIC Banasthali Vidyapith Foundation   \n",
       "3  AIC Banasthali Vidyapith Foundation   \n",
       "4  AIC Pinnacle Entrepreneurship Forum   \n",
       "\n",
       "                                     Name_of_startup     Location of company  \\\n",
       "0                                           Suryansh               New Delhi   \n",
       "1  Thinkpods Education Services Private Limited (...     Satara, Maharashtra   \n",
       "2                      Inventiway Solutions Pvt.Ltd.     Mumbai, Maharashtra   \n",
       "3                       C2M Internet India Pvt. Ltd.  Lucknow, Uttar Pradesh   \n",
       "4                                           Wastinno       Pune, Maharashtra   \n",
       "\n",
       "        Sector       City           State  \n",
       "0       EdTech  New Delhi            None  \n",
       "1      Ed Tech     Satara     Maharashtra  \n",
       "2      HR Tech     Mumbai     Maharashtra  \n",
       "3  Retail Tech    Lucknow   Uttar Pradesh  \n",
       "4  agriculture       Pune     Maharashtra  "
      ]
     },
     "execution_count": 38,
     "metadata": {},
     "output_type": "execute_result"
    }
   ],
   "source": [
    "df.head()"
   ]
  },
  {
   "cell_type": "code",
   "execution_count": 39,
   "id": "2b20c7ee-4c0d-4011-b507-270d42c7435d",
   "metadata": {},
   "outputs": [
    {
     "data": {
      "text/plain": [
       "np.int64(67)"
      ]
     },
     "execution_count": 39,
     "metadata": {},
     "output_type": "execute_result"
    }
   ],
   "source": [
    "df.State.isna().sum()"
   ]
  },
  {
   "cell_type": "code",
   "execution_count": 40,
   "id": "975cf127-a57b-4a93-918a-dede9ac64de3",
   "metadata": {},
   "outputs": [
    {
     "data": {
      "text/plain": [
       "np.int64(2)"
      ]
     },
     "execution_count": 40,
     "metadata": {},
     "output_type": "execute_result"
    }
   ],
   "source": [
    "df.City.isna().sum()"
   ]
  },
  {
   "cell_type": "code",
   "execution_count": 41,
   "id": "785a2baa-fd19-460c-8bfe-550326b9f214",
   "metadata": {},
   "outputs": [],
   "source": [
    "df.City = df.City.str.strip()\n",
    "df.State = df.State.str.strip()"
   ]
  },
  {
   "cell_type": "code",
   "execution_count": 44,
   "id": "184ba07f-767a-441f-a47e-aac8bd39ddff",
   "metadata": {},
   "outputs": [],
   "source": [
    "import json\n",
    "with open('indian_states_and_cities.json') as f:\n",
    "    city_to_state = json.load(f)"
   ]
  },
  {
   "cell_type": "code",
   "execution_count": 45,
   "id": "87a180a3-5aae-4aa5-b283-db85aa0ad846",
   "metadata": {},
   "outputs": [],
   "source": [
    "def map_city_to_state(city):\n",
    "    city = city.title() if isinstance(city, str) else city\n",
    "    for state, cities in city_to_state.items():\n",
    "        if city in cities:\n",
    "            return state\n",
    "    return None"
   ]
  },
  {
   "cell_type": "code",
   "execution_count": 46,
   "id": "22318334-d6d0-4f4e-aad4-c4d4f102de2e",
   "metadata": {},
   "outputs": [],
   "source": [
    "missing_state = df[df['State'].isna()]"
   ]
  },
  {
   "cell_type": "code",
   "execution_count": 47,
   "id": "123d0475-a3f8-43d9-b434-2cb0b736d7eb",
   "metadata": {},
   "outputs": [],
   "source": [
    "for index, row in missing_state.iterrows():\n",
    "    city = row['City']\n",
    "    state = map_city_to_state(city)\n",
    "    if state:\n",
    "        df.at[index, 'State'] = state   "
   ]
  },
  {
   "cell_type": "code",
   "execution_count": 48,
   "id": "36afd026-44c3-4622-b9a6-cad1ae9b3884",
   "metadata": {},
   "outputs": [
    {
     "data": {
      "text/plain": [
       "np.int64(14)"
      ]
     },
     "execution_count": 48,
     "metadata": {},
     "output_type": "execute_result"
    }
   ],
   "source": [
    "df.State.isna().sum()"
   ]
  },
  {
   "cell_type": "code",
   "execution_count": 49,
   "id": "a5deec24-d476-4434-9a26-2ad51bb48bee",
   "metadata": {},
   "outputs": [
    {
     "data": {
      "text/html": [
       "<div>\n",
       "<style scoped>\n",
       "    .dataframe tbody tr th:only-of-type {\n",
       "        vertical-align: middle;\n",
       "    }\n",
       "\n",
       "    .dataframe tbody tr th {\n",
       "        vertical-align: top;\n",
       "    }\n",
       "\n",
       "    .dataframe thead th {\n",
       "        text-align: right;\n",
       "    }\n",
       "</style>\n",
       "<table border=\"1\" class=\"dataframe\">\n",
       "  <thead>\n",
       "    <tr style=\"text-align: right;\">\n",
       "      <th></th>\n",
       "      <th>Incubation_Center</th>\n",
       "      <th>Name_of_startup</th>\n",
       "      <th>Location of company</th>\n",
       "      <th>Sector</th>\n",
       "      <th>City</th>\n",
       "      <th>State</th>\n",
       "    </tr>\n",
       "  </thead>\n",
       "  <tbody>\n",
       "    <tr>\n",
       "      <th>0</th>\n",
       "      <td>ABES Ghaziabad</td>\n",
       "      <td>Suryansh</td>\n",
       "      <td>New Delhi</td>\n",
       "      <td>EdTech</td>\n",
       "      <td>New Delhi</td>\n",
       "      <td>Delhi</td>\n",
       "    </tr>\n",
       "    <tr>\n",
       "      <th>1</th>\n",
       "      <td>AIC Banasthali Vidyapith Foundation</td>\n",
       "      <td>Thinkpods Education Services Private Limited (...</td>\n",
       "      <td>Satara, Maharashtra</td>\n",
       "      <td>Ed Tech</td>\n",
       "      <td>Satara</td>\n",
       "      <td>Maharashtra</td>\n",
       "    </tr>\n",
       "    <tr>\n",
       "      <th>2</th>\n",
       "      <td>AIC Banasthali Vidyapith Foundation</td>\n",
       "      <td>Inventiway Solutions Pvt.Ltd.</td>\n",
       "      <td>Mumbai, Maharashtra</td>\n",
       "      <td>HR Tech</td>\n",
       "      <td>Mumbai</td>\n",
       "      <td>Maharashtra</td>\n",
       "    </tr>\n",
       "    <tr>\n",
       "      <th>3</th>\n",
       "      <td>AIC Banasthali Vidyapith Foundation</td>\n",
       "      <td>C2M Internet India Pvt. Ltd.</td>\n",
       "      <td>Lucknow, Uttar Pradesh</td>\n",
       "      <td>Retail Tech</td>\n",
       "      <td>Lucknow</td>\n",
       "      <td>Uttar Pradesh</td>\n",
       "    </tr>\n",
       "    <tr>\n",
       "      <th>4</th>\n",
       "      <td>AIC Pinnacle Entrepreneurship Forum</td>\n",
       "      <td>Wastinno</td>\n",
       "      <td>Pune, Maharashtra</td>\n",
       "      <td>agriculture</td>\n",
       "      <td>Pune</td>\n",
       "      <td>Maharashtra</td>\n",
       "    </tr>\n",
       "  </tbody>\n",
       "</table>\n",
       "</div>"
      ],
      "text/plain": [
       "                     Incubation_Center  \\\n",
       "0                       ABES Ghaziabad   \n",
       "1  AIC Banasthali Vidyapith Foundation   \n",
       "2  AIC Banasthali Vidyapith Foundation   \n",
       "3  AIC Banasthali Vidyapith Foundation   \n",
       "4  AIC Pinnacle Entrepreneurship Forum   \n",
       "\n",
       "                                     Name_of_startup     Location of company  \\\n",
       "0                                           Suryansh               New Delhi   \n",
       "1  Thinkpods Education Services Private Limited (...     Satara, Maharashtra   \n",
       "2                      Inventiway Solutions Pvt.Ltd.     Mumbai, Maharashtra   \n",
       "3                       C2M Internet India Pvt. Ltd.  Lucknow, Uttar Pradesh   \n",
       "4                                           Wastinno       Pune, Maharashtra   \n",
       "\n",
       "        Sector       City          State  \n",
       "0       EdTech  New Delhi          Delhi  \n",
       "1      Ed Tech     Satara    Maharashtra  \n",
       "2      HR Tech     Mumbai    Maharashtra  \n",
       "3  Retail Tech    Lucknow  Uttar Pradesh  \n",
       "4  agriculture       Pune    Maharashtra  "
      ]
     },
     "execution_count": 49,
     "metadata": {},
     "output_type": "execute_result"
    }
   ],
   "source": [
    "df.head()"
   ]
  },
  {
   "cell_type": "code",
   "execution_count": 50,
   "id": "3786502b-db46-497b-831a-19161d83f290",
   "metadata": {},
   "outputs": [],
   "source": [
    "df.to_csv('Cleaned_Listofstartups.csv', index=False)"
   ]
  }
 ],
 "metadata": {
  "kernelspec": {
   "display_name": "Python 3 (ipykernel)",
   "language": "python",
   "name": "python3"
  },
  "language_info": {
   "codemirror_mode": {
    "name": "ipython",
    "version": 3
   },
   "file_extension": ".py",
   "mimetype": "text/x-python",
   "name": "python",
   "nbconvert_exporter": "python",
   "pygments_lexer": "ipython3",
   "version": "3.9.13"
  }
 },
 "nbformat": 4,
 "nbformat_minor": 5
}
